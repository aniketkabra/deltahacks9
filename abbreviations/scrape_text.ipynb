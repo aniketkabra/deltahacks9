{
 "cells": [
  {
   "cell_type": "code",
   "execution_count": 170,
   "metadata": {},
   "outputs": [],
   "source": [
    "from selenium import webdriver\n",
    "from webdriver_manager.chrome import ChromeDriverManager\n",
    "import pandas as pd\n",
    "from bs4 import BeautifulSoup\n",
    "import json"
   ]
  },
  {
   "cell_type": "code",
   "execution_count": 5,
   "metadata": {},
   "outputs": [],
   "source": [
    "urls = [\n",
    "    'https://www.drugs.com/article/prescription-abbreviations.html'\n",
    "    ]"
   ]
  },
  {
   "cell_type": "code",
   "execution_count": 18,
   "metadata": {},
   "outputs": [],
   "source": [
    "driver = webdriver.Chrome(ChromeDriverManager().install())\n",
    "driver.get(urls[0])"
   ]
  },
  {
   "cell_type": "code",
   "execution_count": 21,
   "metadata": {},
   "outputs": [],
   "source": [
    "html = BeautifulSoup(driver.page_source, 'html.parser')"
   ]
  },
  {
   "cell_type": "code",
   "execution_count": 32,
   "metadata": {},
   "outputs": [],
   "source": [
    "table_info = html.select('table')"
   ]
  },
  {
   "cell_type": "code",
   "execution_count": 44,
   "metadata": {},
   "outputs": [],
   "source": [
    "table_info_pd = pd.read_html(str(table_info[0]))[0]"
   ]
  },
  {
   "cell_type": "code",
   "execution_count": 45,
   "metadata": {},
   "outputs": [
    {
     "data": {
      "text/html": [
       "<div>\n",
       "<style scoped>\n",
       "    .dataframe tbody tr th:only-of-type {\n",
       "        vertical-align: middle;\n",
       "    }\n",
       "\n",
       "    .dataframe tbody tr th {\n",
       "        vertical-align: top;\n",
       "    }\n",
       "\n",
       "    .dataframe thead th {\n",
       "        text-align: right;\n",
       "    }\n",
       "</style>\n",
       "<table border=\"1\" class=\"dataframe\">\n",
       "  <thead>\n",
       "    <tr style=\"text-align: right;\">\n",
       "      <th></th>\n",
       "      <th>Abbreviation</th>\n",
       "      <th>Meaning / Intended Meaning</th>\n",
       "      <th>Notes About Confusion</th>\n",
       "    </tr>\n",
       "  </thead>\n",
       "  <tbody>\n",
       "    <tr>\n",
       "      <th>0</th>\n",
       "      <td>1/2NS</td>\n",
       "      <td>one-half normal saline (0.45%)</td>\n",
       "      <td>Normal saline (NS) is 0.9%, so one-half normal...</td>\n",
       "    </tr>\n",
       "    <tr>\n",
       "      <th>1</th>\n",
       "      <td>5-ASA</td>\n",
       "      <td>5-aminosalicylic acid</td>\n",
       "      <td>Can be misinterpreted as five tablets of aspir...</td>\n",
       "    </tr>\n",
       "    <tr>\n",
       "      <th>2</th>\n",
       "      <td>a</td>\n",
       "      <td>before</td>\n",
       "      <td>NaN</td>\n",
       "    </tr>\n",
       "    <tr>\n",
       "      <th>3</th>\n",
       "      <td>A.M.</td>\n",
       "      <td>morning</td>\n",
       "      <td>NaN</td>\n",
       "    </tr>\n",
       "    <tr>\n",
       "      <th>4</th>\n",
       "      <td>aa</td>\n",
       "      <td>of each</td>\n",
       "      <td>NaN</td>\n",
       "    </tr>\n",
       "  </tbody>\n",
       "</table>\n",
       "</div>"
      ],
      "text/plain": [
       "  Abbreviation      Meaning / Intended Meaning  \\\n",
       "0        1/2NS  one-half normal saline (0.45%)   \n",
       "1        5-ASA           5-aminosalicylic acid   \n",
       "2            a                          before   \n",
       "3         A.M.                         morning   \n",
       "4           aa                         of each   \n",
       "\n",
       "                               Notes About Confusion  \n",
       "0  Normal saline (NS) is 0.9%, so one-half normal...  \n",
       "1  Can be misinterpreted as five tablets of aspir...  \n",
       "2                                                NaN  \n",
       "3                                                NaN  \n",
       "4                                                NaN  "
      ]
     },
     "execution_count": 45,
     "metadata": {},
     "output_type": "execute_result"
    }
   ],
   "source": [
    "table_info_pd.head()"
   ]
  },
  {
   "cell_type": "code",
   "execution_count": 54,
   "metadata": {},
   "outputs": [
    {
     "data": {
      "text/html": [
       "<div>\n",
       "<style scoped>\n",
       "    .dataframe tbody tr th:only-of-type {\n",
       "        vertical-align: middle;\n",
       "    }\n",
       "\n",
       "    .dataframe tbody tr th {\n",
       "        vertical-align: top;\n",
       "    }\n",
       "\n",
       "    .dataframe thead th {\n",
       "        text-align: right;\n",
       "    }\n",
       "</style>\n",
       "<table border=\"1\" class=\"dataframe\">\n",
       "  <thead>\n",
       "    <tr style=\"text-align: right;\">\n",
       "      <th></th>\n",
       "      <th>Abbreviation</th>\n",
       "      <th>Meaning / Intended Meaning</th>\n",
       "      <th>Notes About Confusion</th>\n",
       "    </tr>\n",
       "  </thead>\n",
       "  <tbody>\n",
       "    <tr>\n",
       "      <th>0</th>\n",
       "      <td>1/2NS</td>\n",
       "      <td>one-half normal saline (0.45%)</td>\n",
       "      <td>Normal saline (NS) is 0.9%, so one-half normal...</td>\n",
       "    </tr>\n",
       "    <tr>\n",
       "      <th>1</th>\n",
       "      <td>5-ASA</td>\n",
       "      <td>5-aminosalicylic acid</td>\n",
       "      <td>Can be misinterpreted as five tablets of aspir...</td>\n",
       "    </tr>\n",
       "    <tr>\n",
       "      <th>2</th>\n",
       "      <td>a</td>\n",
       "      <td>before</td>\n",
       "      <td>NaN</td>\n",
       "    </tr>\n",
       "    <tr>\n",
       "      <th>3</th>\n",
       "      <td>A.M.</td>\n",
       "      <td>morning</td>\n",
       "      <td>NaN</td>\n",
       "    </tr>\n",
       "    <tr>\n",
       "      <th>4</th>\n",
       "      <td>aa</td>\n",
       "      <td>of each</td>\n",
       "      <td>NaN</td>\n",
       "    </tr>\n",
       "  </tbody>\n",
       "</table>\n",
       "</div>"
      ],
      "text/plain": [
       "  Abbreviation      Meaning / Intended Meaning  \\\n",
       "0        1/2NS  one-half normal saline (0.45%)   \n",
       "1        5-ASA           5-aminosalicylic acid   \n",
       "2            a                          before   \n",
       "3         A.M.                         morning   \n",
       "4           aa                         of each   \n",
       "\n",
       "                               Notes About Confusion  \n",
       "0  Normal saline (NS) is 0.9%, so one-half normal...  \n",
       "1  Can be misinterpreted as five tablets of aspir...  \n",
       "2                                                NaN  \n",
       "3                                                NaN  \n",
       "4                                                NaN  "
      ]
     },
     "execution_count": 54,
     "metadata": {},
     "output_type": "execute_result"
    }
   ],
   "source": [
    "table_info_pd.head()"
   ]
  },
  {
   "cell_type": "code",
   "execution_count": 56,
   "metadata": {},
   "outputs": [],
   "source": [
    "abbr = list(table_info_pd['Abbreviation'].apply(lambda x : str(x).lower()))"
   ]
  },
  {
   "cell_type": "code",
   "execution_count": 137,
   "metadata": {},
   "outputs": [],
   "source": [
    "abbr_str = list(table_info_pd['Abbreviation'].apply(lambda x : str(x)))"
   ]
  },
  {
   "cell_type": "code",
   "execution_count": 138,
   "metadata": {},
   "outputs": [],
   "source": [
    "table_info_pd['Abbreviation_str'] = abbr_str"
   ]
  },
  {
   "cell_type": "code",
   "execution_count": 73,
   "metadata": {},
   "outputs": [],
   "source": [
    "a = table_info_pd.loc[table_info_pd['Abbreviation'] == 'a', ['Meaning / Intended Meaning']]"
   ]
  },
  {
   "cell_type": "code",
   "execution_count": 86,
   "metadata": {},
   "outputs": [
    {
     "data": {
      "text/plain": [
       "'before'"
      ]
     },
     "execution_count": 86,
     "metadata": {},
     "output_type": "execute_result"
    }
   ],
   "source": [
    "a = 'a'\n",
    "table_info_pd.query('Abbreviation == @a')['Meaning / Intended Meaning'].iloc[0]"
   ]
  },
  {
   "cell_type": "code",
   "execution_count": 147,
   "metadata": {},
   "outputs": [
    {
     "data": {
      "text/plain": [
       "233"
      ]
     },
     "execution_count": 147,
     "metadata": {},
     "output_type": "execute_result"
    }
   ],
   "source": [
    "len(table_info_pd)"
   ]
  },
  {
   "cell_type": "code",
   "execution_count": 164,
   "metadata": {},
   "outputs": [],
   "source": [
    "def format_abbr(s):\n",
    "    s = s.lower()\n",
    "    s = s.replace('.','')\n",
    "    return s"
   ]
  },
  {
   "cell_type": "code",
   "execution_count": 167,
   "metadata": {},
   "outputs": [],
   "source": [
    "abbr_formatted = {}\n",
    "for i in range(len(table_info_pd)):\n",
    "    abbr = str(table_info_pd['Abbreviation'].iloc[i])\n",
    "    if len(abbr.split()) >= 2:\n",
    "        abbr_list = abbr.split()\n",
    "        for a in abbr_list:\n",
    "            abbr_formatted[format_abbr(a)] = table_info_pd['Meaning / Intended Meaning'].iloc[i]\n",
    "    else:\n",
    "        abbr_formatted[format_abbr(abbr)] = table_info_pd['Meaning / Intended Meaning'].iloc[i]"
   ]
  },
  {
   "cell_type": "code",
   "execution_count": 169,
   "metadata": {},
   "outputs": [
    {
     "data": {
      "text/plain": [
       "253"
      ]
     },
     "execution_count": 169,
     "metadata": {},
     "output_type": "execute_result"
    }
   ],
   "source": [
    "len(abbr_formatted)"
   ]
  },
  {
   "cell_type": "code",
   "execution_count": 173,
   "metadata": {},
   "outputs": [],
   "source": [
    "with open(\"abbr_formatted.json\", \"w\") as outfile:\n",
    "    json.dump(abbr_formatted, outfile)"
   ]
  },
  {
   "cell_type": "markdown",
   "metadata": {},
   "source": [
    "# Reformatted"
   ]
  },
  {
   "cell_type": "code",
   "execution_count": 1,
   "metadata": {},
   "outputs": [],
   "source": [
    "from selenium import webdriver\n",
    "from webdriver_manager.chrome import ChromeDriverManager\n",
    "import pandas as pd\n",
    "from bs4 import BeautifulSoup\n",
    "import json"
   ]
  },
  {
   "cell_type": "code",
   "execution_count": 2,
   "metadata": {},
   "outputs": [],
   "source": [
    "urls = ['https://www.drugs.com/article/prescription-abbreviations.html']"
   ]
  },
  {
   "cell_type": "code",
   "execution_count": 3,
   "metadata": {},
   "outputs": [],
   "source": [
    "def scrape_text(driver, url):\n",
    "    driver.get(url)\n",
    "    html = BeautifulSoup(driver.page_source, 'html.parser')\n",
    "    table_info = html.select('table')\n",
    "    table_info_pd = pd.read_html(str(table_info[0]))[0]\n",
    "    print('table dataframe created')\n",
    "    return table_info_pd"
   ]
  },
  {
   "cell_type": "code",
   "execution_count": 4,
   "metadata": {},
   "outputs": [],
   "source": [
    "def format_abbr(s):\n",
    "    s = s.lower()\n",
    "    s = s.strip(',')\n",
    "    s = s.replace('.','')\n",
    "    return s"
   ]
  },
  {
   "cell_type": "code",
   "execution_count": 5,
   "metadata": {},
   "outputs": [],
   "source": [
    "def create_abbr_table(table_info_pd):\n",
    "    abbr_str = list(table_info_pd['Abbreviation'].apply(lambda x : str(x)))\n",
    "    table_info_pd['Abbreviation_str'] = abbr_str\n",
    "    abbr_formatted = {}\n",
    "    print('creating dictionary')\n",
    "    for i in range(len(table_info_pd)):\n",
    "        abbr = str(table_info_pd['Abbreviation'].iloc[i])\n",
    "        if len(abbr.split()) >= 2:\n",
    "            abbr_list = abbr.split()\n",
    "            for a in abbr_list:\n",
    "                abbr_formatted[format_abbr(a)] = table_info_pd['Meaning / Intended Meaning'].iloc[i]\n",
    "        else:\n",
    "            abbr_formatted[format_abbr(abbr)] = table_info_pd['Meaning / Intended Meaning'].iloc[i]\n",
    "    print('dictionary created')\n",
    "    return abbr_formatted"
   ]
  },
  {
   "cell_type": "code",
   "execution_count": 6,
   "metadata": {},
   "outputs": [],
   "source": [
    "def export_json(abbr_formatted):\n",
    "    print('exporting json')\n",
    "    with open(\"abbr_formatted.json\", \"w\") as outfile:\n",
    "        json.dump(abbr_formatted, outfile)\n",
    "    print('json exported')"
   ]
  },
  {
   "cell_type": "code",
   "execution_count": 10,
   "metadata": {},
   "outputs": [],
   "source": [
    "def main():\n",
    "    table_info_pd = scrape_text(driver, urls[0])\n",
    "    abbr_formatted = create_abbr_table(table_info_pd)\n",
    "    export_json(abbr_formatted)"
   ]
  },
  {
   "cell_type": "code",
   "execution_count": 8,
   "metadata": {},
   "outputs": [
    {
     "name": "stdout",
     "output_type": "stream",
     "text": [
      "creating webdriver\n"
     ]
    }
   ],
   "source": [
    "print('creating webdriver')\n",
    "driver = webdriver.Chrome(ChromeDriverManager().install())"
   ]
  },
  {
   "cell_type": "code",
   "execution_count": 11,
   "metadata": {},
   "outputs": [
    {
     "name": "stdout",
     "output_type": "stream",
     "text": [
      "table dataframe created\n",
      "creating dictionary\n",
      "string formatted\n",
      "string formatted\n",
      "string formatted\n",
      "string formatted\n",
      "string formatted\n",
      "string formatted\n",
      "string formatted\n",
      "string formatted\n",
      "string formatted\n",
      "string formatted\n",
      "string formatted\n",
      "string formatted\n",
      "string formatted\n",
      "string formatted\n",
      "string formatted\n",
      "string formatted\n",
      "string formatted\n",
      "string formatted\n",
      "string formatted\n",
      "string formatted\n",
      "string formatted\n",
      "string formatted\n",
      "string formatted\n",
      "string formatted\n",
      "string formatted\n",
      "string formatted\n",
      "string formatted\n",
      "string formatted\n",
      "string formatted\n",
      "string formatted\n",
      "string formatted\n",
      "string formatted\n",
      "string formatted\n",
      "string formatted\n",
      "string formatted\n",
      "string formatted\n",
      "string formatted\n",
      "string formatted\n",
      "string formatted\n",
      "string formatted\n",
      "string formatted\n",
      "string formatted\n",
      "string formatted\n",
      "string formatted\n",
      "string formatted\n",
      "string formatted\n",
      "string formatted\n",
      "string formatted\n",
      "string formatted\n",
      "string formatted\n",
      "string formatted\n",
      "string formatted\n",
      "string formatted\n",
      "string formatted\n",
      "string formatted\n",
      "string formatted\n",
      "string formatted\n",
      "string formatted\n",
      "string formatted\n",
      "string formatted\n",
      "string formatted\n",
      "string formatted\n",
      "string formatted\n",
      "string formatted\n",
      "string formatted\n",
      "string formatted\n",
      "string formatted\n",
      "string formatted\n",
      "string formatted\n",
      "string formatted\n",
      "string formatted\n",
      "string formatted\n",
      "string formatted\n",
      "string formatted\n",
      "string formatted\n",
      "string formatted\n",
      "string formatted\n",
      "string formatted\n",
      "string formatted\n",
      "string formatted\n",
      "string formatted\n",
      "string formatted\n",
      "string formatted\n",
      "string formatted\n",
      "string formatted\n",
      "string formatted\n",
      "string formatted\n",
      "string formatted\n",
      "string formatted\n",
      "string formatted\n",
      "string formatted\n",
      "string formatted\n",
      "string formatted\n",
      "string formatted\n",
      "string formatted\n",
      "string formatted\n",
      "string formatted\n",
      "string formatted\n",
      "string formatted\n",
      "string formatted\n",
      "string formatted\n",
      "string formatted\n",
      "string formatted\n",
      "string formatted\n",
      "string formatted\n",
      "string formatted\n",
      "string formatted\n",
      "string formatted\n",
      "string formatted\n",
      "string formatted\n",
      "string formatted\n",
      "string formatted\n",
      "string formatted\n",
      "string formatted\n",
      "string formatted\n",
      "string formatted\n",
      "string formatted\n",
      "string formatted\n",
      "string formatted\n",
      "string formatted\n",
      "string formatted\n",
      "string formatted\n",
      "string formatted\n",
      "string formatted\n",
      "string formatted\n",
      "string formatted\n",
      "string formatted\n",
      "string formatted\n",
      "string formatted\n",
      "string formatted\n",
      "string formatted\n",
      "string formatted\n",
      "string formatted\n",
      "string formatted\n",
      "string formatted\n",
      "string formatted\n",
      "string formatted\n",
      "string formatted\n",
      "string formatted\n",
      "string formatted\n",
      "string formatted\n",
      "string formatted\n",
      "string formatted\n",
      "string formatted\n",
      "string formatted\n",
      "string formatted\n",
      "string formatted\n",
      "string formatted\n",
      "string formatted\n",
      "string formatted\n",
      "string formatted\n",
      "string formatted\n",
      "string formatted\n",
      "string formatted\n",
      "string formatted\n",
      "string formatted\n",
      "string formatted\n",
      "string formatted\n",
      "string formatted\n",
      "string formatted\n",
      "string formatted\n",
      "string formatted\n",
      "string formatted\n",
      "string formatted\n",
      "string formatted\n",
      "string formatted\n",
      "string formatted\n",
      "string formatted\n",
      "string formatted\n",
      "string formatted\n",
      "string formatted\n",
      "string formatted\n",
      "string formatted\n",
      "string formatted\n",
      "string formatted\n",
      "string formatted\n",
      "string formatted\n",
      "string formatted\n",
      "string formatted\n",
      "string formatted\n",
      "string formatted\n",
      "string formatted\n",
      "string formatted\n",
      "string formatted\n",
      "string formatted\n",
      "string formatted\n",
      "string formatted\n",
      "string formatted\n",
      "string formatted\n",
      "string formatted\n",
      "string formatted\n",
      "string formatted\n",
      "string formatted\n",
      "string formatted\n",
      "string formatted\n",
      "string formatted\n",
      "string formatted\n",
      "string formatted\n",
      "string formatted\n",
      "string formatted\n",
      "string formatted\n",
      "string formatted\n",
      "string formatted\n",
      "string formatted\n",
      "string formatted\n",
      "string formatted\n",
      "string formatted\n",
      "string formatted\n",
      "string formatted\n",
      "string formatted\n",
      "string formatted\n",
      "string formatted\n",
      "string formatted\n",
      "string formatted\n",
      "string formatted\n",
      "string formatted\n",
      "string formatted\n",
      "string formatted\n",
      "string formatted\n",
      "string formatted\n",
      "string formatted\n",
      "string formatted\n",
      "string formatted\n",
      "string formatted\n",
      "string formatted\n",
      "string formatted\n",
      "string formatted\n",
      "string formatted\n",
      "string formatted\n",
      "string formatted\n",
      "string formatted\n",
      "string formatted\n",
      "string formatted\n",
      "string formatted\n",
      "string formatted\n",
      "string formatted\n",
      "string formatted\n",
      "string formatted\n",
      "string formatted\n",
      "string formatted\n",
      "string formatted\n",
      "string formatted\n",
      "string formatted\n",
      "string formatted\n",
      "string formatted\n",
      "string formatted\n",
      "string formatted\n",
      "string formatted\n",
      "string formatted\n",
      "string formatted\n",
      "string formatted\n",
      "string formatted\n",
      "string formatted\n",
      "string formatted\n",
      "string formatted\n",
      "string formatted\n",
      "string formatted\n",
      "string formatted\n",
      "string formatted\n",
      "string formatted\n",
      "string formatted\n",
      "string formatted\n",
      "string formatted\n",
      "string formatted\n",
      "string formatted\n",
      "string formatted\n",
      "string formatted\n",
      "string formatted\n",
      "string formatted\n",
      "string formatted\n",
      "string formatted\n",
      "string formatted\n",
      "string formatted\n",
      "string formatted\n",
      "string formatted\n",
      "string formatted\n",
      "string formatted\n",
      "string formatted\n",
      "string formatted\n",
      "string formatted\n",
      "string formatted\n",
      "string formatted\n",
      "string formatted\n",
      "string formatted\n",
      "string formatted\n",
      "string formatted\n",
      "string formatted\n",
      "string formatted\n",
      "string formatted\n",
      "string formatted\n",
      "string formatted\n",
      "string formatted\n",
      "string formatted\n",
      "string formatted\n",
      "string formatted\n",
      "string formatted\n",
      "string formatted\n",
      "string formatted\n",
      "string formatted\n",
      "string formatted\n",
      "string formatted\n",
      "string formatted\n",
      "string formatted\n",
      "string formatted\n",
      "dictionary created\n",
      "exporting json\n",
      "json exported\n"
     ]
    }
   ],
   "source": [
    "main()"
   ]
  },
  {
   "cell_type": "code",
   "execution_count": null,
   "metadata": {},
   "outputs": [],
   "source": []
  }
 ],
 "metadata": {
  "kernelspec": {
   "display_name": "Python 3.8.5 ('base')",
   "language": "python",
   "name": "python3"
  },
  "language_info": {
   "codemirror_mode": {
    "name": "ipython",
    "version": 3
   },
   "file_extension": ".py",
   "mimetype": "text/x-python",
   "name": "python",
   "nbconvert_exporter": "python",
   "pygments_lexer": "ipython3",
   "version": "3.8.5"
  },
  "orig_nbformat": 4,
  "vscode": {
   "interpreter": {
    "hash": "551afb47ed5944fc4781b71d0c05759a9f873322739b6346251f05608a59a3b1"
   }
  }
 },
 "nbformat": 4,
 "nbformat_minor": 2
}
